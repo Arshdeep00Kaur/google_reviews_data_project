{
 "cells": [
  {
   "cell_type": "markdown",
   "metadata": {},
   "source": [
    "# importing libraries\n",
    "- pandas \n",
    "- matplotlib\n",
    "- os"
   ]
  },
  {
   "cell_type": "code",
   "execution_count": 5,
   "metadata": {},
   "outputs": [],
   "source": [
    "import os\n",
    "import pandas as pd"
   ]
  },
  {
   "cell_type": "code",
   "execution_count": 6,
   "metadata": {},
   "outputs": [],
   "source": [
    "# Folder containing CSV files\n",
    "folder_path1 = \"D:\\google_reviews_data\\Scrapped Data\\Scrapped Data\"  \n",
    "\n",
    "folder_path2=\"D:\\google_reviews_data\\Scrapped_Data\"\n",
    "output_file=\"merged_output.csv\""
   ]
  },
  {
   "cell_type": "code",
   "execution_count": 10,
   "metadata": {},
   "outputs": [],
   "source": [
    "def read_csv_files_from_folder(folder):\n",
    "    dataframes = []\n",
    "    csv_files = [file for file in os.listdir(folder) if file.endswith(\".csv\")]  # Get list of CSV files\n",
    "    for file in csv_files:\n",
    "        file_path = os.path.join(folder, file)\n",
    "        df = pd.read_csv(file_path)\n",
    "        dataframes.append(df)\n",
    "    return dataframes\n"
   ]
  },
  {
   "cell_type": "code",
   "execution_count": 11,
   "metadata": {},
   "outputs": [],
   "source": [
    "# Read files from both folders\n",
    "dfs_folder1 = read_csv_files_from_folder(folder_path1)\n",
    "dfs_folder2 = read_csv_files_from_folder(folder_path2)\n"
   ]
  },
  {
   "cell_type": "code",
   "execution_count": 12,
   "metadata": {},
   "outputs": [],
   "source": [
    "# Merge all DataFrames\n",
    "merged_df = pd.concat(dfs_folder1 + dfs_folder2, ignore_index=True)\n"
   ]
  },
  {
   "cell_type": "code",
   "execution_count": 13,
   "metadata": {},
   "outputs": [],
   "source": [
    "# Save to CSV\n",
    "merged_df.to_csv(output_file, index=False)\n"
   ]
  },
  {
   "cell_type": "code",
   "execution_count": 14,
   "metadata": {},
   "outputs": [
    {
     "name": "stdout",
     "output_type": "stream",
     "text": [
      "Merged file saved as merged_output.csv\n"
     ]
    }
   ],
   "source": [
    "print(f\"Merged file saved as {output_file}\")"
   ]
  },
  {
   "cell_type": "code",
   "execution_count": null,
   "metadata": {},
   "outputs": [],
   "source": []
  }
 ],
 "metadata": {
  "kernelspec": {
   "display_name": "base",
   "language": "python",
   "name": "python3"
  },
  "language_info": {
   "codemirror_mode": {
    "name": "ipython",
    "version": 3
   },
   "file_extension": ".py",
   "mimetype": "text/x-python",
   "name": "python",
   "nbconvert_exporter": "python",
   "pygments_lexer": "ipython3",
   "version": "3.11.7"
  }
 },
 "nbformat": 4,
 "nbformat_minor": 2
}
