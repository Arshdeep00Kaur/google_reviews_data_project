{
 "cells": [
  {
   "cell_type": "markdown",
   "metadata": {},
   "source": [
    "# Importing libraries"
   ]
  },
  {
   "cell_type": "code",
   "execution_count": 14,
   "metadata": {},
   "outputs": [],
   "source": [
    "import pandas as pd \n",
    "\n"
   ]
  },
  {
   "cell_type": "code",
   "execution_count": 15,
   "metadata": {},
   "outputs": [],
   "source": [
    "# importing merged csv file as dataframe\n",
    "df = pd.read_csv('merged_output.csv') \n"
   ]
  },
  {
   "cell_type": "code",
   "execution_count": 16,
   "metadata": {},
   "outputs": [
    {
     "data": {
      "text/html": [
       "<div>\n",
       "<style scoped>\n",
       "    .dataframe tbody tr th:only-of-type {\n",
       "        vertical-align: middle;\n",
       "    }\n",
       "\n",
       "    .dataframe tbody tr th {\n",
       "        vertical-align: top;\n",
       "    }\n",
       "\n",
       "    .dataframe thead th {\n",
       "        text-align: right;\n",
       "    }\n",
       "</style>\n",
       "<table border=\"1\" class=\"dataframe\">\n",
       "  <thead>\n",
       "    <tr style=\"text-align: right;\">\n",
       "      <th></th>\n",
       "      <th>username</th>\n",
       "      <th>rating</th>\n",
       "      <th>text</th>\n",
       "      <th>date</th>\n",
       "      <th>city</th>\n",
       "      <th>company</th>\n",
       "    </tr>\n",
       "  </thead>\n",
       "  <tbody>\n",
       "    <tr>\n",
       "      <th>0</th>\n",
       "      <td>{'name': 'THUMMAR PIYUSH', 'link': 'https://ww...</td>\n",
       "      <td>5</td>\n",
       "      <td>It is an opportunity for me to work with the T...</td>\n",
       "      <td>5 years ago</td>\n",
       "      <td>Ahmehdabad</td>\n",
       "      <td>Thomson Reuters</td>\n",
       "    </tr>\n",
       "    <tr>\n",
       "      <th>1</th>\n",
       "      <td>{'name': 'H', 'link': 'https://www.google.com/...</td>\n",
       "      <td>5</td>\n",
       "      <td>Thomson Reuters is one of the BEST companies. ...</td>\n",
       "      <td>3 years ago</td>\n",
       "      <td>Ahmehdabad</td>\n",
       "      <td>Thomson Reuters</td>\n",
       "    </tr>\n",
       "    <tr>\n",
       "      <th>2</th>\n",
       "      <td>{'name': 'Gaurav Sharma', 'link': 'https://www...</td>\n",
       "      <td>5</td>\n",
       "      <td>One of the bigger companies in Ahmedabad. Grea...</td>\n",
       "      <td>2 years ago</td>\n",
       "      <td>Ahmehdabad</td>\n",
       "      <td>Thomson Reuters</td>\n",
       "    </tr>\n",
       "    <tr>\n",
       "      <th>3</th>\n",
       "      <td>{'name': 'Aksha Bagban', 'link': 'https://www....</td>\n",
       "      <td>5</td>\n",
       "      <td>Today i visit the palce. I was very happy to v...</td>\n",
       "      <td>7 years ago</td>\n",
       "      <td>Ahmehdabad</td>\n",
       "      <td>Thomson Reuters</td>\n",
       "    </tr>\n",
       "    <tr>\n",
       "      <th>4</th>\n",
       "      <td>{'name': 'Arya Suthar', 'link': 'https://www.g...</td>\n",
       "      <td>4</td>\n",
       "      <td>Nice place As like corporate office are</td>\n",
       "      <td>a year ago</td>\n",
       "      <td>Ahmehdabad</td>\n",
       "      <td>Thomson Reuters</td>\n",
       "    </tr>\n",
       "  </tbody>\n",
       "</table>\n",
       "</div>"
      ],
      "text/plain": [
       "                                            username  rating  \\\n",
       "0  {'name': 'THUMMAR PIYUSH', 'link': 'https://ww...       5   \n",
       "1  {'name': 'H', 'link': 'https://www.google.com/...       5   \n",
       "2  {'name': 'Gaurav Sharma', 'link': 'https://www...       5   \n",
       "3  {'name': 'Aksha Bagban', 'link': 'https://www....       5   \n",
       "4  {'name': 'Arya Suthar', 'link': 'https://www.g...       4   \n",
       "\n",
       "                                                text         date        city  \\\n",
       "0  It is an opportunity for me to work with the T...  5 years ago  Ahmehdabad   \n",
       "1  Thomson Reuters is one of the BEST companies. ...  3 years ago  Ahmehdabad   \n",
       "2  One of the bigger companies in Ahmedabad. Grea...  2 years ago  Ahmehdabad   \n",
       "3  Today i visit the palce. I was very happy to v...  7 years ago  Ahmehdabad   \n",
       "4            Nice place As like corporate office are   a year ago  Ahmehdabad   \n",
       "\n",
       "           company  \n",
       "0  Thomson Reuters  \n",
       "1  Thomson Reuters  \n",
       "2  Thomson Reuters  \n",
       "3  Thomson Reuters  \n",
       "4  Thomson Reuters  "
      ]
     },
     "execution_count": 16,
     "metadata": {},
     "output_type": "execute_result"
    }
   ],
   "source": [
    "df.head()"
   ]
  },
  {
   "cell_type": "markdown",
   "metadata": {},
   "source": [
    "# data preprocessing"
   ]
  },
  {
   "cell_type": "code",
   "execution_count": 17,
   "metadata": {},
   "outputs": [
    {
     "data": {
      "text/plain": [
       "username     0\n",
       "rating       0\n",
       "text        42\n",
       "date         0\n",
       "city         0\n",
       "company      0\n",
       "dtype: int64"
      ]
     },
     "execution_count": 17,
     "metadata": {},
     "output_type": "execute_result"
    }
   ],
   "source": [
    "# checking for missing values\n",
    "df.isnull().sum()"
   ]
  },
  {
   "cell_type": "code",
   "execution_count": 18,
   "metadata": {},
   "outputs": [
    {
     "name": "stdout",
     "output_type": "stream",
     "text": [
      "<class 'pandas.core.frame.DataFrame'>\n",
      "RangeIndex: 848 entries, 0 to 847\n",
      "Data columns (total 6 columns):\n",
      " #   Column    Non-Null Count  Dtype \n",
      "---  ------    --------------  ----- \n",
      " 0   username  848 non-null    object\n",
      " 1   rating    848 non-null    int64 \n",
      " 2   text      806 non-null    object\n",
      " 3   date      848 non-null    object\n",
      " 4   city      848 non-null    object\n",
      " 5   company   848 non-null    object\n",
      "dtypes: int64(1), object(5)\n",
      "memory usage: 39.9+ KB\n"
     ]
    }
   ],
   "source": [
    "df.info()"
   ]
  },
  {
   "cell_type": "code",
   "execution_count": 19,
   "metadata": {},
   "outputs": [
    {
     "data": {
      "text/plain": [
       "username    0\n",
       "rating      0\n",
       "text        0\n",
       "date        0\n",
       "city        0\n",
       "company     0\n",
       "dtype: int64"
      ]
     },
     "execution_count": 19,
     "metadata": {},
     "output_type": "execute_result"
    }
   ],
   "source": [
    "# dropping null values from text column\n",
    "df = df.dropna(subset=['text'])\n",
    "df.isnull().sum()"
   ]
  },
  {
   "cell_type": "code",
   "execution_count": 20,
   "metadata": {},
   "outputs": [
    {
     "name": "stdout",
     "output_type": "stream",
     "text": [
      "<class 'pandas.core.frame.DataFrame'>\n",
      "Index: 806 entries, 0 to 847\n",
      "Data columns (total 6 columns):\n",
      " #   Column    Non-Null Count  Dtype \n",
      "---  ------    --------------  ----- \n",
      " 0   username  806 non-null    object\n",
      " 1   rating    806 non-null    int64 \n",
      " 2   text      806 non-null    object\n",
      " 3   date      806 non-null    object\n",
      " 4   city      806 non-null    object\n",
      " 5   company   806 non-null    object\n",
      "dtypes: int64(1), object(5)\n",
      "memory usage: 44.1+ KB\n"
     ]
    }
   ],
   "source": [
    "df.info()"
   ]
  },
  {
   "cell_type": "code",
   "execution_count": 21,
   "metadata": {},
   "outputs": [],
   "source": [
    "# checking unique values "
   ]
  },
  {
   "cell_type": "code",
   "execution_count": 22,
   "metadata": {},
   "outputs": [
    {
     "name": "stdout",
     "output_type": "stream",
     "text": [
      "Index(['username', 'rating', 'text', 'date', 'city', 'company',\n",
      "       'username_dict', 'name', 'link', 'contributor_id', 'thumbnail',\n",
      "       'local_guide', 'reviews', 'photos'],\n",
      "      dtype='object')\n",
      "Index(['username', 'rating', 'text', 'date', 'city', 'company', 'name', 'link',\n",
      "       'contributor_id', 'thumbnail', 'local_guide', 'reviews', 'photos'],\n",
      "      dtype='object')\n"
     ]
    }
   ],
   "source": [
    "\n",
    "import ast\n",
    "\n",
    "\n",
    "\n",
    "# Convert 'username' column from string representation of dictionary to actual dictionary\n",
    "df['username_dict'] = df['username'].apply(lambda x: ast.literal_eval(x) if isinstance(x, str) else x)\n",
    "\n",
    "# Extract keys from dictionary and create new columns\n",
    "keys_to_extract = ['name', 'link', 'contributor_id', 'thumbnail', 'local_guide', 'reviews', 'photos']\n",
    "for key in keys_to_extract:\n",
    "    df[key] = df['username_dict'].apply(lambda x: x.get(key) if isinstance(x, dict) else None)\n",
    "print(df.columns)\n",
    "# Drop the temporary dictionary column\n",
    "df = df.drop(columns=['username_dict'])\n",
    "print(df.columns)\n",
    "\n",
    "\n"
   ]
  },
  {
   "cell_type": "code",
   "execution_count": 23,
   "metadata": {},
   "outputs": [
    {
     "name": "stdout",
     "output_type": "stream",
     "text": [
      "Index(['rating', 'text', 'date', 'city', 'company', 'contributor_id',\n",
      "       'reviews'],\n",
      "      dtype='object')\n"
     ]
    }
   ],
   "source": [
    "columns_to_drop = ['username', 'name', 'link', 'thumbnail', 'local_guide', 'photos']\n",
    "df.drop(columns=columns_to_drop, inplace=True)\n",
    "\n",
    "print(df.columns) "
   ]
  },
  {
   "cell_type": "code",
   "execution_count": 24,
   "metadata": {},
   "outputs": [
    {
     "data": {
      "text/html": [
       "<div>\n",
       "<style scoped>\n",
       "    .dataframe tbody tr th:only-of-type {\n",
       "        vertical-align: middle;\n",
       "    }\n",
       "\n",
       "    .dataframe tbody tr th {\n",
       "        vertical-align: top;\n",
       "    }\n",
       "\n",
       "    .dataframe thead th {\n",
       "        text-align: right;\n",
       "    }\n",
       "</style>\n",
       "<table border=\"1\" class=\"dataframe\">\n",
       "  <thead>\n",
       "    <tr style=\"text-align: right;\">\n",
       "      <th></th>\n",
       "      <th>rating</th>\n",
       "      <th>text</th>\n",
       "      <th>date</th>\n",
       "      <th>city</th>\n",
       "      <th>company</th>\n",
       "      <th>contributor_id</th>\n",
       "      <th>reviews</th>\n",
       "    </tr>\n",
       "  </thead>\n",
       "  <tbody>\n",
       "    <tr>\n",
       "      <th>0</th>\n",
       "      <td>5</td>\n",
       "      <td>It is an opportunity for me to work with the T...</td>\n",
       "      <td>5 years ago</td>\n",
       "      <td>Ahmehdabad</td>\n",
       "      <td>Thomson Reuters</td>\n",
       "      <td>104227770972993979682</td>\n",
       "      <td>53</td>\n",
       "    </tr>\n",
       "    <tr>\n",
       "      <th>1</th>\n",
       "      <td>5</td>\n",
       "      <td>Thomson Reuters is one of the BEST companies. ...</td>\n",
       "      <td>3 years ago</td>\n",
       "      <td>Ahmehdabad</td>\n",
       "      <td>Thomson Reuters</td>\n",
       "      <td>115343754683535956831</td>\n",
       "      <td>9</td>\n",
       "    </tr>\n",
       "    <tr>\n",
       "      <th>2</th>\n",
       "      <td>5</td>\n",
       "      <td>One of the bigger companies in Ahmedabad. Grea...</td>\n",
       "      <td>2 years ago</td>\n",
       "      <td>Ahmehdabad</td>\n",
       "      <td>Thomson Reuters</td>\n",
       "      <td>100356322819129667512</td>\n",
       "      <td>45</td>\n",
       "    </tr>\n",
       "    <tr>\n",
       "      <th>3</th>\n",
       "      <td>5</td>\n",
       "      <td>Today i visit the palce. I was very happy to v...</td>\n",
       "      <td>7 years ago</td>\n",
       "      <td>Ahmehdabad</td>\n",
       "      <td>Thomson Reuters</td>\n",
       "      <td>112001217090608621297</td>\n",
       "      <td>1</td>\n",
       "    </tr>\n",
       "    <tr>\n",
       "      <th>4</th>\n",
       "      <td>4</td>\n",
       "      <td>Nice place As like corporate office are</td>\n",
       "      <td>a year ago</td>\n",
       "      <td>Ahmehdabad</td>\n",
       "      <td>Thomson Reuters</td>\n",
       "      <td>106889688797229038521</td>\n",
       "      <td>168</td>\n",
       "    </tr>\n",
       "  </tbody>\n",
       "</table>\n",
       "</div>"
      ],
      "text/plain": [
       "   rating                                               text         date  \\\n",
       "0       5  It is an opportunity for me to work with the T...  5 years ago   \n",
       "1       5  Thomson Reuters is one of the BEST companies. ...  3 years ago   \n",
       "2       5  One of the bigger companies in Ahmedabad. Grea...  2 years ago   \n",
       "3       5  Today i visit the palce. I was very happy to v...  7 years ago   \n",
       "4       4            Nice place As like corporate office are   a year ago   \n",
       "\n",
       "         city          company         contributor_id  reviews  \n",
       "0  Ahmehdabad  Thomson Reuters  104227770972993979682       53  \n",
       "1  Ahmehdabad  Thomson Reuters  115343754683535956831        9  \n",
       "2  Ahmehdabad  Thomson Reuters  100356322819129667512       45  \n",
       "3  Ahmehdabad  Thomson Reuters  112001217090608621297        1  \n",
       "4  Ahmehdabad  Thomson Reuters  106889688797229038521      168  "
      ]
     },
     "execution_count": 24,
     "metadata": {},
     "output_type": "execute_result"
    }
   ],
   "source": [
    "df.head()"
   ]
  },
  {
   "cell_type": "code",
   "execution_count": 25,
   "metadata": {},
   "outputs": [],
   "source": [
    "df.to_csv('modified_dataset.csv', index=False)"
   ]
  },
  {
   "cell_type": "code",
   "execution_count": null,
   "metadata": {},
   "outputs": [],
   "source": []
  }
 ],
 "metadata": {
  "kernelspec": {
   "display_name": "base",
   "language": "python",
   "name": "python3"
  },
  "language_info": {
   "codemirror_mode": {
    "name": "ipython",
    "version": 3
   },
   "file_extension": ".py",
   "mimetype": "text/x-python",
   "name": "python",
   "nbconvert_exporter": "python",
   "pygments_lexer": "ipython3",
   "version": "3.11.7"
  }
 },
 "nbformat": 4,
 "nbformat_minor": 2
}
