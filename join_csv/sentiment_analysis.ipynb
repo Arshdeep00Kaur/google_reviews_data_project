{
 "cells": [
  {
   "cell_type": "code",
   "execution_count": 13,
   "metadata": {},
   "outputs": [
    {
     "name": "stderr",
     "output_type": "stream",
     "text": [
      "[nltk_data] Downloading package vader_lexicon to\n",
      "[nltk_data]     C:\\Users\\ACER\\AppData\\Roaming\\nltk_data...\n",
      "[nltk_data]   Package vader_lexicon is already up-to-date!\n"
     ]
    },
    {
     "name": "stdout",
     "output_type": "stream",
     "text": [
      "Processed data saved to D:/google_reviews_data/join_csv/processed_dataset.csv\n"
     ]
    }
   ],
   "source": [
    "import pandas as pd\n",
    "import nltk\n",
    "from nltk.sentiment.vader import SentimentIntensityAnalyzer\n",
    "\n",
    "# Load the data\n",
    "file_path = 'D:/google_reviews_data/join_csv/modified_dataset.csv'\n",
    "df = pd.read_csv(file_path)\n",
    "\n",
    "# Initialize the sentiment analyzer\n",
    "nltk.download('vader_lexicon')\n",
    "sid = SentimentIntensityAnalyzer()\n",
    "\n",
    "# Function to get sentiment scores\n",
    "def get_sentiment(text):\n",
    "    return sid.polarity_scores(text)\n",
    "\n",
    "# Apply the function to the 'text' column\n",
    "df['sentiment'] = df['text'].apply(get_sentiment)\n",
    "\n",
    "# Extract compound score as the sentiment score\n",
    "df['sentiment_score'] = df['sentiment'].apply(lambda x: x['compound'])\n",
    "\n",
    "# Classify sentiment as positive, negative, or neutral\n",
    "df['sentiment_label'] = df['sentiment_score'].apply(lambda x: 'positive' if x > 0 else ('negative' if x < 0 else 'neutral'))\n",
    "\n",
    "# Select relevant columns for Power BI\n",
    "df_powerbi = df[['company', 'rating', 'text', 'date', 'city', 'contributor_id', 'reviews', 'sentiment_score', 'sentiment_label']]\n",
    "\n",
    "# Save the processed data to a CSV file\n",
    "output_file_path = 'D:/google_reviews_data/join_csv/processed_dataset.csv'\n",
    "df_powerbi.to_csv(output_file_path, index=False)\n",
    "\n",
    "print(f\"Processed data saved to {output_file_path}\")"
   ]
  },
  {
   "cell_type": "code",
   "execution_count": 14,
   "metadata": {},
   "outputs": [
    {
     "name": "stderr",
     "output_type": "stream",
     "text": [
      "[nltk_data] Downloading package vader_lexicon to\n",
      "[nltk_data]     C:\\Users\\ACER\\AppData\\Roaming\\nltk_data...\n",
      "[nltk_data]   Package vader_lexicon is already up-to-date!\n"
     ]
    },
    {
     "name": "stdout",
     "output_type": "stream",
     "text": [
      "Processed data saved to D:/google_reviews_data/join_csv/company_stats.csv\n"
     ]
    }
   ],
   "source": [
    "import pandas as pd\n",
    "import nltk\n",
    "from nltk.sentiment.vader import SentimentIntensityAnalyzer\n",
    "\n",
    "# Load the data\n",
    "file_path = 'D:/google_reviews_data/join_csv/modified_dataset.csv'\n",
    "df = pd.read_csv(file_path)\n",
    "\n",
    "# Initialize the sentiment analyzer\n",
    "nltk.download('vader_lexicon')\n",
    "sid = SentimentIntensityAnalyzer()\n",
    "\n",
    "# Function to get sentiment scores\n",
    "def get_sentiment(text):\n",
    "    return sid.polarity_scores(text)\n",
    "\n",
    "# Apply the function to the 'text' column\n",
    "df['sentiment'] = df['text'].apply(get_sentiment)\n",
    "\n",
    "# Extract compound score as the sentiment score\n",
    "df['sentiment_score'] = df['sentiment'].apply(lambda x: x['compound'])\n",
    "\n",
    "# Classify sentiment as positive, negative, or neutral\n",
    "df['sentiment_label'] = df['sentiment_score'].apply(lambda x: 'positive' if x > 0 else ('negative' if x < 0 else 'neutral'))\n",
    "\n",
    "# Calculate average ratings and sentiment scores for each company\n",
    "company_stats = df.groupby('company').agg(\n",
    "    average_rating=('rating', 'mean'),\n",
    "    average_sentiment_score=('sentiment_score', 'mean'),\n",
    "    review_count=('rating', 'count')\n",
    ").reset_index()\n",
    "\n",
    "# Identify discrepancies where high ratings do not match sentiment scores\n",
    "company_stats['rating_sentiment_discrepancy'] = company_stats['average_rating'] - company_stats['average_sentiment_score']\n",
    "\n",
    "# Save the processed data to a CSV file for Power BI\n",
    "output_file_path = 'D:/google_reviews_data/join_csv/company_stats.csv'\n",
    "company_stats.to_csv(output_file_path, index=False)\n",
    "\n",
    "print(f\"Processed data saved to {output_file_path}\")"
   ]
  },
  {
   "cell_type": "code",
   "execution_count": null,
   "metadata": {},
   "outputs": [],
   "source": []
  }
 ],
 "metadata": {
  "kernelspec": {
   "display_name": "base",
   "language": "python",
   "name": "python3"
  },
  "language_info": {
   "codemirror_mode": {
    "name": "ipython",
    "version": 3
   },
   "file_extension": ".py",
   "mimetype": "text/x-python",
   "name": "python",
   "nbconvert_exporter": "python",
   "pygments_lexer": "ipython3",
   "version": "3.11.7"
  }
 },
 "nbformat": 4,
 "nbformat_minor": 2
}
